{
 "cells": [
  {
   "cell_type": "code",
   "execution_count": 2,
   "id": "fbc0f566",
   "metadata": {},
   "outputs": [],
   "source": [
    "import pandas as pd\n",
    "\n",
    "# Укажите путь к файлу Excel\n",
    "file_path = \"DICT6.csv\"\n",
    "\n",
    "# Загрузите файл Excel в DataFrame, указав, что первая строка содержит заголовки столбцов\n",
    "df_test = pd.read_csv(file_path, header=0, sep=';')"
   ]
  },
  {
   "cell_type": "code",
   "execution_count": null,
   "id": "f92292fa",
   "metadata": {},
   "outputs": [],
   "source": [
    "## import pandas as pd\n",
    "import requests\n",
    "from bs4 import BeautifulSoup\n",
    "import time\n",
    "\n",
    "# Функция для парсинга значения \"Разрешения первой категории (Лицензии)\"\n",
    "def parse_value(url):\n",
    "    response = requests.get(url, verify=False)\n",
    "    if response.status_code == 200:\n",
    "        soup = BeautifulSoup(response.text, 'html.parser')\n",
    "        rows = soup.find_all('tr')\n",
    "        time.sleep(1)\n",
    "        for row in rows:\n",
    "            cell1 = row.find('td')\n",
    "            if cell1:\n",
    "                text = cell1.get_text(strip=True)\n",
    "                if \"Разрешения первой категории (Лицензии)\" in text:\n",
    "                    value_cell = row.find_all('td')[2]\n",
    "                    button = value_cell.find('button')  # Попробуем найти кнопку внутри ячейки\n",
    "                    if button:\n",
    "                        return button.get_text(strip=True)\n",
    "                    else:\n",
    "                        return \"Нет\"\n",
    "        return \"Нет\"  # В случае, если не найдено соответствующей строки\n",
    "    else:\n",
    "        return \"Ошибка при выполнении запроса\"\n",
    "\n",
    "# Создать датафрейм\n",
    "df = df_test\n",
    "\n",
    "# Применить функцию к каждой строке и создать новую колонку \"Dict\"\n",
    "df['Dict'] = df['Links'].apply(parse_value)\n",
    "\n",
    "# Вывести датафрейм с новой колонкой\n",
    "print(df)"
   ]
  },
  {
   "cell_type": "code",
   "execution_count": 5,
   "id": "7602af6c",
   "metadata": {},
   "outputs": [],
   "source": [
    "df.to_csv(\"DICT9.csv\", index=False, sep=';')"
   ]
  }
 ],
 "metadata": {
  "kernelspec": {
   "display_name": "Python 3 (ipykernel)",
   "language": "python",
   "name": "python3"
  },
  "language_info": {
   "codemirror_mode": {
    "name": "ipython",
    "version": 3
   },
   "file_extension": ".py",
   "mimetype": "text/x-python",
   "name": "python",
   "nbconvert_exporter": "python",
   "pygments_lexer": "ipython3",
   "version": "3.10.9"
  }
 },
 "nbformat": 4,
 "nbformat_minor": 5
}

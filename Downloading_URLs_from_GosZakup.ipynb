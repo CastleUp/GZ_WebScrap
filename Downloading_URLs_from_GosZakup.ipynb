{
 "cells": [
  {
   "cell_type": "code",
   "execution_count": 1,
   "id": "a673cc30",
   "metadata": {},
   "outputs": [],
   "source": [
    "import pandas as pd\n",
    "\n",
    "# Укажите путь к файлу Excel\n",
    "file_path = \"ForScrapLinks.xlsx\"\n",
    "\n",
    "# Загрузите файл Excel в DataFrame, указав, что первая строка содержит заголовки столбцов\n",
    "df_test = pd.read_excel(file_path, header=0)"
   ]
  },
  {
   "cell_type": "code",
   "execution_count": null,
   "id": "d2c87c07",
   "metadata": {
    "scrolled": true
   },
   "outputs": [],
   "source": [
    "%%time\n",
    "import time\n",
    "import requests\n",
    "from bs4 import BeautifulSoup\n",
    "import pandas as pd\n",
    "\n",
    "# Создайте DataFrame с вашими данными\n",
    "df = df_test.iloc[4500:7085]\n",
    "\n",
    "# Функция для выполнения парсинга и возврата новых данных\n",
    "def parse_and_get_new_link(row):\n",
    "    url = row[\"Links\"]\n",
    "    response = requests.get(url, verify=False)\n",
    "    \n",
    "    if response.status_code == 200:\n",
    "        soup = BeautifulSoup(response.text, \"html.parser\")\n",
    "        table = soup.find(\"table\", {\"id\": \"search-result\"})\n",
    "        \n",
    "        if table:\n",
    "            links = []\n",
    "            for row in table.find_all(\"tr\"):\n",
    "                cells = row.find_all(\"td\")\n",
    "                if len(cells) > 1:\n",
    "                    link = cells[1].find(\"a\")\n",
    "                    if link:\n",
    "                        links.append(link.get(\"href\"))\n",
    "                        time.sleep(1)\n",
    "            return \" \".join(links)  # Возвращаем список ссылок в виде строки\n",
    "            \n",
    "        else:\n",
    "            return \"Таблица не найдена на странице.\"\n",
    "            \n",
    "    else:\n",
    "        return \"Не удалось получить страницу. Код ответа: \" + str(response.status_code)\n",
    "\n",
    "# Примените функцию к каждой строке DataFrame и сохраните результаты в новом столбце \"LinksNEW\"\n",
    "df[\"LinksNEW\"] = df.apply(parse_and_get_new_link, axis=1)\n",
    "\n",
    "print(df)"
   ]
  },
  {
   "cell_type": "code",
   "execution_count": 3,
   "id": "b99c9b50",
   "metadata": {},
   "outputs": [],
   "source": [
    "df.to_csv(\"LINKS_GZ3.csv\", index=False, sep=';')"
   ]
  }
 ],
 "metadata": {
  "kernelspec": {
   "display_name": "Python 3 (ipykernel)",
   "language": "python",
   "name": "python3"
  },
  "language_info": {
   "codemirror_mode": {
    "name": "ipython",
    "version": 3
   },
   "file_extension": ".py",
   "mimetype": "text/x-python",
   "name": "python",
   "nbconvert_exporter": "python",
   "pygments_lexer": "ipython3",
   "version": "3.10.9"
  }
 },
 "nbformat": 4,
 "nbformat_minor": 5
}
